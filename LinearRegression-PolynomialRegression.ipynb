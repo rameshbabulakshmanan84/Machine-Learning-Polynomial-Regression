{
 "cells": [
  {
   "cell_type": "code",
   "execution_count": 21,
   "metadata": {},
   "outputs": [],
   "source": [
    "#Import the required libraries\n",
    "import numpy as np\n",
    "import matplotlib.pyplot as plt\n",
    "import seaborn as sns\n",
    "import pandas as pd\n",
    "import os"
   ]
  },
  {
   "cell_type": "code",
   "execution_count": 3,
   "metadata": {},
   "outputs": [
    {
     "name": "stdout",
     "output_type": "stream",
     "text": [
      "C:\\Users\\BrindhaM\\Documents\\CelStrat MlL\\My Site\\Polynomial and logistic Regression\n"
     ]
    }
   ],
   "source": [
    "#get the current working directory\n",
    "print(os.getcwd())"
   ]
  },
  {
   "cell_type": "code",
   "execution_count": 4,
   "metadata": {},
   "outputs": [],
   "source": [
    "#read the file\n",
    "df=pd.read_csv(\"Insurance.csv\")"
   ]
  },
  {
   "cell_type": "code",
   "execution_count": 6,
   "metadata": {},
   "outputs": [
    {
     "name": "stdout",
     "output_type": "stream",
     "text": [
      "(10, 2)\n"
     ]
    },
    {
     "data": {
      "text/plain": [
       "array(['Age', 'Insurance Premium (Rs)'], dtype=object)"
      ]
     },
     "execution_count": 6,
     "metadata": {},
     "output_type": "execute_result"
    }
   ],
   "source": [
    "#print the shape of the data\n",
    "print(df.shape)\n",
    "#print the columns\n",
    "df.columns.values"
   ]
  },
  {
   "cell_type": "code",
   "execution_count": 7,
   "metadata": {},
   "outputs": [
    {
     "data": {
      "text/html": [
       "<div>\n",
       "<style scoped>\n",
       "    .dataframe tbody tr th:only-of-type {\n",
       "        vertical-align: middle;\n",
       "    }\n",
       "\n",
       "    .dataframe tbody tr th {\n",
       "        vertical-align: top;\n",
       "    }\n",
       "\n",
       "    .dataframe thead th {\n",
       "        text-align: right;\n",
       "    }\n",
       "</style>\n",
       "<table border=\"1\" class=\"dataframe\">\n",
       "  <thead>\n",
       "    <tr style=\"text-align: right;\">\n",
       "      <th></th>\n",
       "      <th>Age</th>\n",
       "      <th>Insurance Premium (Rs)</th>\n",
       "    </tr>\n",
       "  </thead>\n",
       "  <tbody>\n",
       "    <tr>\n",
       "      <th>0</th>\n",
       "      <td>25</td>\n",
       "      <td>4500</td>\n",
       "    </tr>\n",
       "    <tr>\n",
       "      <th>1</th>\n",
       "      <td>30</td>\n",
       "      <td>5000</td>\n",
       "    </tr>\n",
       "    <tr>\n",
       "      <th>2</th>\n",
       "      <td>35</td>\n",
       "      <td>6000</td>\n",
       "    </tr>\n",
       "    <tr>\n",
       "      <th>3</th>\n",
       "      <td>40</td>\n",
       "      <td>8000</td>\n",
       "    </tr>\n",
       "    <tr>\n",
       "      <th>4</th>\n",
       "      <td>45</td>\n",
       "      <td>11000</td>\n",
       "    </tr>\n",
       "    <tr>\n",
       "      <th>5</th>\n",
       "      <td>50</td>\n",
       "      <td>15000</td>\n",
       "    </tr>\n",
       "    <tr>\n",
       "      <th>6</th>\n",
       "      <td>55</td>\n",
       "      <td>20000</td>\n",
       "    </tr>\n",
       "    <tr>\n",
       "      <th>7</th>\n",
       "      <td>60</td>\n",
       "      <td>30000</td>\n",
       "    </tr>\n",
       "    <tr>\n",
       "      <th>8</th>\n",
       "      <td>65</td>\n",
       "      <td>50000</td>\n",
       "    </tr>\n",
       "    <tr>\n",
       "      <th>9</th>\n",
       "      <td>70</td>\n",
       "      <td>100000</td>\n",
       "    </tr>\n",
       "  </tbody>\n",
       "</table>\n",
       "</div>"
      ],
      "text/plain": [
       "   Age  Insurance Premium (Rs)\n",
       "0   25                    4500\n",
       "1   30                    5000\n",
       "2   35                    6000\n",
       "3   40                    8000\n",
       "4   45                   11000\n",
       "5   50                   15000\n",
       "6   55                   20000\n",
       "7   60                   30000\n",
       "8   65                   50000\n",
       "9   70                  100000"
      ]
     },
     "execution_count": 7,
     "metadata": {},
     "output_type": "execute_result"
    }
   ],
   "source": [
    "#print the contents\n",
    "df"
   ]
  },
  {
   "cell_type": "code",
   "execution_count": 18,
   "metadata": {},
   "outputs": [
    {
     "data": {
      "text/plain": [
       "Age                       0\n",
       "Insurance Premium (Rs)    0\n",
       "dtype: int64"
      ]
     },
     "execution_count": 18,
     "metadata": {},
     "output_type": "execute_result"
    }
   ],
   "source": [
    "#start the preprocessing\n",
    "#cehck the null values\n",
    "#Dont use Count.Use Sum\n",
    "df.isnull().sum()"
   ]
  },
  {
   "cell_type": "code",
   "execution_count": 19,
   "metadata": {},
   "outputs": [
    {
     "name": "stdout",
     "output_type": "stream",
     "text": [
      "                             Age  Insurance Premium (Rs)\n",
      "Age                     1.000000                0.817949\n",
      "Insurance Premium (Rs)  0.817949                1.000000\n"
     ]
    }
   ],
   "source": [
    "#check the correlation\n",
    "print(df.corr())\n",
    "#The result shwos the premium tnds to increase with age"
   ]
  },
  {
   "cell_type": "code",
   "execution_count": 23,
   "metadata": {},
   "outputs": [
    {
     "data": {
      "text/plain": [
       "<matplotlib.axes._subplots.AxesSubplot at 0x229d15de160>"
      ]
     },
     "execution_count": 23,
     "metadata": {},
     "output_type": "execute_result"
    },
    {
     "data": {
      "image/png": "[encoded data removed]",
      "text/plain": [
       "<matplotlib.figure.Figure at 0x229d139bfd0>"
      ]
     },
     "metadata": {
      "needs_background": "light"
     },
     "output_type": "display_data"
    }
   ],
   "source": [
    "#print the correlation using heatmap of sns\n",
    "sns.heatmap(df.corr(),annot=True)"
   ]
  },
  {
   "cell_type": "code",
   "execution_count": 63,
   "metadata": {},
   "outputs": [],
   "source": [
    "#Divide the data into indepdent and depenant variable\n",
    "X=df['Age']\n",
    "Y=df['Insurance Premium (Rs)']"
   ]
  },
  {
   "cell_type": "code",
   "execution_count": 64,
   "metadata": {},
   "outputs": [
    {
     "data": {
      "text/plain": [
       "(10,)"
      ]
     },
     "execution_count": 64,
     "metadata": {},
     "output_type": "execute_result"
    }
   ],
   "source": [
    "#Print the contents\n",
    "X.shape"
   ]
  },
  {
   "cell_type": "code",
   "execution_count": 65,
   "metadata": {},
   "outputs": [
    {
     "data": {
      "text/plain": [
       "(10,)"
      ]
     },
     "execution_count": 65,
     "metadata": {},
     "output_type": "execute_result"
    }
   ],
   "source": [
    "Y.shape"
   ]
  },
  {
   "cell_type": "code",
   "execution_count": 66,
   "metadata": {},
   "outputs": [
    {
     "data": {
      "text/plain": [
       "<matplotlib.collections.PathCollection at 0x229d1f7e400>"
      ]
     },
     "execution_count": 66,
     "metadata": {},
     "output_type": "execute_result"
    },
    {
     "data": {
      "image/png": "[encoded data removed]",
      "text/plain": [
       "<matplotlib.figure.Figure at 0x229d1f13860>"
      ]
     },
     "metadata": {
      "needs_background": "light"
     },
     "output_type": "display_data"
    }
   ],
   "source": [
    "#Scatter plot the view X vs Y\n",
    "plt.scatter(X,Y)"
   ]
  },
  {
   "cell_type": "code",
   "execution_count": 71,
   "metadata": {},
   "outputs": [
    {
     "data": {
      "text/plain": [
       "(10, 1)"
      ]
     },
     "execution_count": 71,
     "metadata": {},
     "output_type": "execute_result"
    }
   ],
   "source": [
    "#Lets firt the data using linear regrssion\n",
    "from sklearn.linear_model import LinearRegression\n",
    "linearregressor=LinearRegression()\n",
    "#Before fitting the model, pls rshap the input to 2D as model fitting expects 2D shape.\n",
    "#Reshape using values.reshape\n",
    "X=X.reshape(-1,1)\n",
    "#print X\n",
    "X.shape\n"
   ]
  },
  {
   "cell_type": "code",
   "execution_count": 72,
   "metadata": {},
   "outputs": [
    {
     "data": {
      "text/plain": [
       "LinearRegression(copy_X=True, fit_intercept=True, n_jobs=1, normalize=False)"
      ]
     },
     "execution_count": 72,
     "metadata": {},
     "output_type": "execute_result"
    }
   ],
   "source": [
    "#fit the data \n",
    "#Only precitor is required to be 2D whereas outut can be 1D\n",
    "linearregressor.fit(X,Y)"
   ]
  },
  {
   "cell_type": "code",
   "execution_count": 73,
   "metadata": {},
   "outputs": [
    {
     "data": {
      "image/png": "[encoded data removed]",
      "text/plain": [
       "<matplotlib.figure.Figure at 0x229d1fb55f8>"
      ]
     },
     "metadata": {
      "needs_background": "light"
     },
     "output_type": "display_data"
    }
   ],
   "source": [
    "#Lets visualize the plot\n",
    "fig=plt.figure()\n",
    "#Create an axes for the figure\n",
    "ax=plt.axes()\n",
    "#Satter plot with age s X axis , premium as y axis\n",
    "#If label is not provided,Y label is used as label for the line\n",
    "ax.scatter(X,Y,color='blue',label='Original')\n",
    "#plot with age s X axis , predicted(premium) as y axis\n",
    "ax.plot(X,linearregressor.predict(X),'--k',label='Regressonline')\n",
    "plt.xlabel('Age in yrs')\n",
    "plt.ylabel('Premium in Rs')\n",
    "plt.title(\"Regrssion plot linear\")\n",
    "plt.legend()\n",
    "plt.show()"
   ]
  },
  {
   "cell_type": "code",
   "execution_count": 74,
   "metadata": {},
   "outputs": [
    {
     "name": "stdout",
     "output_type": "stream",
     "text": [
      "rmse-linear 16338.873519272616\n",
      "r2 score 0.6690412331929894\n"
     ]
    }
   ],
   "source": [
    "#Now that polynomial fits the data better.Lets evaluate the RMSE and R2 for each.\n",
    "from sklearn.metrics import mean_squared_error, r2_score\n",
    "import numpy as np\n",
    "#calculate for linear model\n",
    "rmse_linear = np.sqrt(mean_squared_error(Y, linearregressor.predict(X)))\n",
    "r2_linear = r2_score(Y, linearregressor.predict(X))\n",
    "print(\"rmse-linear\",rmse_linear)\n",
    "print(\"r2 score\",r2_linear)"
   ]
  },
  {
   "cell_type": "code",
   "execution_count": 75,
   "metadata": {},
   "outputs": [],
   "source": [
    "#The above results show it is underfitted.\n",
    "#lets apply polynomial regression (not linear growth may be 2x,3x growth)\n",
    "from sklearn.preprocessing import PolynomialFeatures\n",
    "\n",
    "#create a polynomial along with degree\n",
    "#This generates multiple features..\n",
    "Polyregressor=PolynomialFeatures(degree = 4)\n",
    "poly_matrix=Polyregressor.fit_transform(X)\n"
   ]
  },
  {
   "cell_type": "code",
   "execution_count": 76,
   "metadata": {},
   "outputs": [
    {
     "data": {
      "text/plain": [
       "array([[1.0000000e+00, 2.5000000e+01, 6.2500000e+02, 1.5625000e+04,\n",
       "        3.9062500e+05],\n",
       "       [1.0000000e+00, 3.0000000e+01, 9.0000000e+02, 2.7000000e+04,\n",
       "        8.1000000e+05],\n",
       "       [1.0000000e+00, 3.5000000e+01, 1.2250000e+03, 4.2875000e+04,\n",
       "        1.5006250e+06],\n",
       "       [1.0000000e+00, 4.0000000e+01, 1.6000000e+03, 6.4000000e+04,\n",
       "        2.5600000e+06],\n",
       "       [1.0000000e+00, 4.5000000e+01, 2.0250000e+03, 9.1125000e+04,\n",
       "        4.1006250e+06],\n",
       "       [1.0000000e+00, 5.0000000e+01, 2.5000000e+03, 1.2500000e+05,\n",
       "        6.2500000e+06],\n",
       "       [1.0000000e+00, 5.5000000e+01, 3.0250000e+03, 1.6637500e+05,\n",
       "        9.1506250e+06],\n",
       "       [1.0000000e+00, 6.0000000e+01, 3.6000000e+03, 2.1600000e+05,\n",
       "        1.2960000e+07],\n",
       "       [1.0000000e+00, 6.5000000e+01, 4.2250000e+03, 2.7462500e+05,\n",
       "        1.7850625e+07],\n",
       "       [1.0000000e+00, 7.0000000e+01, 4.9000000e+03, 3.4300000e+05,\n",
       "        2.4010000e+07]])"
      ]
     },
     "execution_count": 76,
     "metadata": {},
     "output_type": "execute_result"
    }
   ],
   "source": [
    "#print the poynomial matrix\n",
    "poly_matrix"
   ]
  },
  {
   "cell_type": "code",
   "execution_count": 77,
   "metadata": {},
   "outputs": [
    {
     "data": {
      "text/plain": [
       "(10, 5)"
      ]
     },
     "execution_count": 77,
     "metadata": {},
     "output_type": "execute_result"
    }
   ],
   "source": [
    "poly_matrix.shape"
   ]
  },
  {
   "cell_type": "code",
   "execution_count": 78,
   "metadata": {},
   "outputs": [
    {
     "data": {
      "text/plain": [
       "LinearRegression(copy_X=True, fit_intercept=True, n_jobs=1, normalize=False)"
      ]
     },
     "execution_count": 78,
     "metadata": {},
     "output_type": "execute_result"
    }
   ],
   "source": [
    "#Now apply the lieanr regression to the input\n",
    "linearregressor.fit(poly_matrix,Y)"
   ]
  },
  {
   "cell_type": "code",
   "execution_count": 79,
   "metadata": {},
   "outputs": [
    {
     "data": {
      "image/png": "[encoded data removed]",
      "text/plain": [
       "<matplotlib.figure.Figure at 0x229d2055198>"
      ]
     },
     "metadata": {
      "needs_background": "light"
     },
     "output_type": "display_data"
    }
   ],
   "source": [
    "#Lets visualize the plot\n",
    "fig=plt.figure()\n",
    "#Create an axes for the figure\n",
    "ax=plt.axes()\n",
    "#Satter plot with age s X axis , premium as y axis\n",
    "#If label is not provided,Y label is used as label for the line\n",
    "ax.scatter(X,Y,color='blue',label='Original')\n",
    "#plot with age s X axis , predicted(premium) as y axis\n",
    "ax.plot(X,linearregressor.predict(poly_matrix),'--k',label='Regressonline')\n",
    "plt.xlabel('Age in yrs')\n",
    "plt.ylabel('Premium in Rs')\n",
    "plt.title(\"Regrssion plot ploynominal\")\n",
    "plt.legend()\n",
    "plt.show()"
   ]
  },
  {
   "cell_type": "code",
   "execution_count": 82,
   "metadata": {},
   "outputs": [
    {
     "name": "stdout",
     "output_type": "stream",
     "text": [
      "rmse-Ploy 1450.323490962734\n",
      "r2 Ploy 0.9973922891706613\n"
     ]
    }
   ],
   "source": [
    "#Now that polynomial fits the data better.Lets evaluate the RMSE and R2 for each.\n",
    "from sklearn.metrics import mean_squared_error, r2_score\n",
    "import numpy as np\n",
    "#calculate for linear model\n",
    "rmse_linear = np.sqrt(mean_squared_error(Y, linearregressor.predict(poly_matrix)))\n",
    "r2_linear = r2_score(Y, linearregressor.predict(poly_matrix))\n",
    "print(\"rmse-Ploy\",rmse_linear)\n",
    "print(\"r2 Ploy\",r2_linear)"
   ]
  },
  {
   "cell_type": "code",
   "execution_count": null,
   "metadata": {},
   "outputs": [],
   "source": [
    "#As you can see, r2 increased from 66% to 99%"
   ]
  }
 ],
 "metadata": {
  "kernelspec": {
   "display_name": "Python 3",
   "language": "python",
   "name": "python3"
  },
  "language_info": {
   "codemirror_mode": {
    "name": "ipython",
    "version": 3
   },
   "file_extension": ".py",
   "mimetype": "text/x-python",
   "name": "python",
   "nbconvert_exporter": "python",
   "pygments_lexer": "ipython3",
   "version": "3.6.4"
  }
 },
 "nbformat": 4,
 "nbformat_minor": 2
}
